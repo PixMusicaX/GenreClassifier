{
 "cells": [
  {
   "cell_type": "code",
   "execution_count": 1,
   "metadata": {},
   "outputs": [],
   "source": [
    "import pandas as pd\n",
    "import numpy as np\n",
    "import seaborn as sns\n",
    "import matplotlib.pyplot as plt\n",
    "from sklearn.feature_extraction.text import TfidfVectorizer\n",
    "from sklearn.linear_model import LogisticRegression\n",
    "from sklearn.model_selection import train_test_split\n",
    "from sklearn.metrics import accuracy_score, classification_report\n",
    "from sklearn.svm import LinearSVC\n",
    "from sklearn.naive_bayes import MultinomialNB"
   ]
  },
  {
   "cell_type": "code",
   "execution_count": 2,
   "metadata": {},
   "outputs": [],
   "source": [
    "train_data = pd.read_csv(\"Genre Classification Dataset/train_data.txt\", sep=':::', names=[\"title\", \"genre\", \"description\"], engine='python')\n",
    "test_data = pd.read_csv(\"Genre Classification Dataset/test_data.txt\", sep=':::', names=[\"title\", \"description\"], engine='python')"
   ]
  },
  {
   "cell_type": "code",
   "execution_count": 3,
   "metadata": {},
   "outputs": [
    {
     "data": {
      "text/html": [
       "<div>\n",
       "<style scoped>\n",
       "    .dataframe tbody tr th:only-of-type {\n",
       "        vertical-align: middle;\n",
       "    }\n",
       "\n",
       "    .dataframe tbody tr th {\n",
       "        vertical-align: top;\n",
       "    }\n",
       "\n",
       "    .dataframe thead th {\n",
       "        text-align: right;\n",
       "    }\n",
       "</style>\n",
       "<table border=\"1\" class=\"dataframe\">\n",
       "  <thead>\n",
       "    <tr style=\"text-align: right;\">\n",
       "      <th></th>\n",
       "      <th>title</th>\n",
       "      <th>genre</th>\n",
       "      <th>description</th>\n",
       "    </tr>\n",
       "  </thead>\n",
       "  <tbody>\n",
       "    <tr>\n",
       "      <th>1</th>\n",
       "      <td>Oscar et la dame rose (2009)</td>\n",
       "      <td>drama</td>\n",
       "      <td>Listening in to a conversation between his do...</td>\n",
       "    </tr>\n",
       "    <tr>\n",
       "      <th>2</th>\n",
       "      <td>Cupid (1997)</td>\n",
       "      <td>thriller</td>\n",
       "      <td>A brother and sister with a past incestuous r...</td>\n",
       "    </tr>\n",
       "    <tr>\n",
       "      <th>3</th>\n",
       "      <td>Young, Wild and Wonderful (1980)</td>\n",
       "      <td>adult</td>\n",
       "      <td>As the bus empties the students for their fie...</td>\n",
       "    </tr>\n",
       "    <tr>\n",
       "      <th>4</th>\n",
       "      <td>The Secret Sin (1915)</td>\n",
       "      <td>drama</td>\n",
       "      <td>To help their unemployed father make ends mee...</td>\n",
       "    </tr>\n",
       "    <tr>\n",
       "      <th>5</th>\n",
       "      <td>The Unrecovered (2007)</td>\n",
       "      <td>drama</td>\n",
       "      <td>The film's title refers not only to the un-re...</td>\n",
       "    </tr>\n",
       "  </tbody>\n",
       "</table>\n",
       "</div>"
      ],
      "text/plain": [
       "                                title       genre  \\\n",
       "1       Oscar et la dame rose (2009)       drama    \n",
       "2                       Cupid (1997)    thriller    \n",
       "3   Young, Wild and Wonderful (1980)       adult    \n",
       "4              The Secret Sin (1915)       drama    \n",
       "5             The Unrecovered (2007)       drama    \n",
       "\n",
       "                                         description  \n",
       "1   Listening in to a conversation between his do...  \n",
       "2   A brother and sister with a past incestuous r...  \n",
       "3   As the bus empties the students for their fie...  \n",
       "4   To help their unemployed father make ends mee...  \n",
       "5   The film's title refers not only to the un-re...  "
      ]
     },
     "execution_count": 3,
     "metadata": {},
     "output_type": "execute_result"
    }
   ],
   "source": [
    "train_data.head()"
   ]
  },
  {
   "cell_type": "code",
   "execution_count": 4,
   "metadata": {},
   "outputs": [
    {
     "data": {
      "text/html": [
       "<div>\n",
       "<style scoped>\n",
       "    .dataframe tbody tr th:only-of-type {\n",
       "        vertical-align: middle;\n",
       "    }\n",
       "\n",
       "    .dataframe tbody tr th {\n",
       "        vertical-align: top;\n",
       "    }\n",
       "\n",
       "    .dataframe thead th {\n",
       "        text-align: right;\n",
       "    }\n",
       "</style>\n",
       "<table border=\"1\" class=\"dataframe\">\n",
       "  <thead>\n",
       "    <tr style=\"text-align: right;\">\n",
       "      <th></th>\n",
       "      <th>title</th>\n",
       "      <th>description</th>\n",
       "    </tr>\n",
       "  </thead>\n",
       "  <tbody>\n",
       "    <tr>\n",
       "      <th>1</th>\n",
       "      <td>Edgar's Lunch (1998)</td>\n",
       "      <td>L.R. Brane loves his life - his car, his apar...</td>\n",
       "    </tr>\n",
       "    <tr>\n",
       "      <th>2</th>\n",
       "      <td>La guerra de papá (1977)</td>\n",
       "      <td>Spain, March 1964: Quico is a very naughty ch...</td>\n",
       "    </tr>\n",
       "    <tr>\n",
       "      <th>3</th>\n",
       "      <td>Off the Beaten Track (2010)</td>\n",
       "      <td>One year in the life of Albin and his family ...</td>\n",
       "    </tr>\n",
       "    <tr>\n",
       "      <th>4</th>\n",
       "      <td>Meu Amigo Hindu (2015)</td>\n",
       "      <td>His father has died, he hasn't spoken with hi...</td>\n",
       "    </tr>\n",
       "    <tr>\n",
       "      <th>5</th>\n",
       "      <td>Er nu zhai (1955)</td>\n",
       "      <td>Before he was known internationally as a mart...</td>\n",
       "    </tr>\n",
       "  </tbody>\n",
       "</table>\n",
       "</div>"
      ],
      "text/plain": [
       "                           title  \\\n",
       "1          Edgar's Lunch (1998)    \n",
       "2      La guerra de papá (1977)    \n",
       "3   Off the Beaten Track (2010)    \n",
       "4        Meu Amigo Hindu (2015)    \n",
       "5             Er nu zhai (1955)    \n",
       "\n",
       "                                         description  \n",
       "1   L.R. Brane loves his life - his car, his apar...  \n",
       "2   Spain, March 1964: Quico is a very naughty ch...  \n",
       "3   One year in the life of Albin and his family ...  \n",
       "4   His father has died, he hasn't spoken with hi...  \n",
       "5   Before he was known internationally as a mart...  "
      ]
     },
     "execution_count": 4,
     "metadata": {},
     "output_type": "execute_result"
    }
   ],
   "source": [
    "test_data.head()"
   ]
  },
  {
   "cell_type": "code",
   "execution_count": 5,
   "metadata": {},
   "outputs": [],
   "source": [
    "X_train = train_data['description'].astype(str).values\n",
    "y_train = train_data['genre'].astype(str).values\n",
    "\n",
    "\n",
    "X_test = test_data['description'].astype(str).values"
   ]
  },
  {
   "cell_type": "code",
   "execution_count": 6,
   "metadata": {},
   "outputs": [],
   "source": [
    "\n",
    "vectorizer = TfidfVectorizer(max_features=5000)\n",
    "X_train_tfidf = vectorizer.fit_transform(X_train)\n",
    "X_test_tfidf = vectorizer.transform(X_test)\n",
    "\n",
    "X_train_split, X_val_split, y_train_split, y_val_split = train_test_split(X_train_tfidf, y_train, test_size=0.2, random_state=42)"
   ]
  },
  {
   "cell_type": "markdown",
   "metadata": {},
   "source": [
    "# Logistic Regression"
   ]
  },
  {
   "cell_type": "code",
   "execution_count": 7,
   "metadata": {},
   "outputs": [
    {
     "name": "stdout",
     "output_type": "stream",
     "text": [
      "Validation Accuracy: 0.59\n"
     ]
    }
   ],
   "source": [
    "\n",
    "logreg_model = LogisticRegression(max_iter=1000)\n",
    "logreg_model.fit(X_train_split, y_train_split)\n",
    "\n",
    "\n",
    "val_predictions = logreg_model.predict(X_val_split)\n",
    "\n",
    "accuracy = accuracy_score(y_val_split, val_predictions)\n",
    "print(f\"Validation Accuracy: {accuracy:.2f}\")\n",
    "\n",
    "test_predictions = logreg_model.predict(X_test_tfidf)\n",
    "\n",
    "test_data['predicted_genre'] = test_predictions\n",
    "test_data.to_csv('predicted_genres_lr.csv', index=False)"
   ]
  },
  {
   "cell_type": "code",
   "execution_count": 8,
   "metadata": {},
   "outputs": [
    {
     "name": "stdout",
     "output_type": "stream",
     "text": [
      "Accuracy compared to solution data: 0.19\n"
     ]
    }
   ],
   "source": [
    "\n",
    "solution_data = pd.read_csv(\"Genre Classification Dataset/test_data_solution.txt\", sep=':::', names=[\"ID\", \"TITLE\", \"ACTUAL_GENRE\", \"DESCRIPTION\"], engine='python')\n",
    "\n",
    "\n",
    "merged_data = pd.merge(test_data, solution_data, left_index=True, right_index=True)\n",
    "\n",
    "accuracy_solution = accuracy_score(merged_data['ACTUAL_GENRE'], merged_data['predicted_genre'])\n",
    "print(f\"Accuracy compared to solution data: {accuracy_solution:.2f}\")\n",
    "\n",
    "merged_data.to_csv('merged_data_with_predictions_lr.csv', index=False)\n"
   ]
  },
  {
   "cell_type": "markdown",
   "metadata": {},
   "source": [
    "# Naive Bayes"
   ]
  },
  {
   "cell_type": "code",
   "execution_count": 9,
   "metadata": {},
   "outputs": [
    {
     "name": "stdout",
     "output_type": "stream",
     "text": [
      "Validation Accuracy (Naive Bayes): 0.51\n"
     ]
    }
   ],
   "source": [
    "\n",
    "naive_bayes_model = MultinomialNB()\n",
    "naive_bayes_model.fit(X_train_split, y_train_split)\n",
    "\n",
    "val_predictions_nb = naive_bayes_model.predict(X_val_split)\n",
    "\n",
    "accuracy_nb = accuracy_score(y_val_split, val_predictions_nb)\n",
    "print(f\"Validation Accuracy (Naive Bayes): {accuracy_nb:.2f}\")\n",
    "\n",
    "test_predictions_nb = naive_bayes_model.predict(X_test_tfidf)\n",
    "\n",
    "\n",
    "test_data['predicted_genre_nb'] = test_predictions_nb\n",
    "test_data.to_csv('predicted_genres_nb.csv', index=False)"
   ]
  },
  {
   "cell_type": "code",
   "execution_count": 10,
   "metadata": {},
   "outputs": [
    {
     "name": "stdout",
     "output_type": "stream",
     "text": [
      "Accuracy compared to solution data: 0.23\n"
     ]
    }
   ],
   "source": [
    "\n",
    "solution_data = pd.read_csv(\"Genre Classification Dataset/test_data_solution.txt\", sep=':::', names=[\"ID\", \"TITLE\", \"ACTUAL_GENRE\", \"DESCRIPTION\"], engine='python')\n",
    "\n",
    "\n",
    "merged_data = pd.merge(test_data, solution_data, left_index=True, right_index=True)\n",
    "\n",
    "\n",
    "accuracy_solution = accuracy_score(merged_data['ACTUAL_GENRE'], merged_data['predicted_genre_nb'])\n",
    "print(f\"Accuracy compared to solution data: {accuracy_solution:.2f}\")\n",
    "\n",
    "\n",
    "merged_data.to_csv('merged_data_with_predictions_nb.csv', index=False)\n"
   ]
  },
  {
   "cell_type": "markdown",
   "metadata": {},
   "source": [
    "# Linear Support Vector Machine"
   ]
  },
  {
   "cell_type": "code",
   "execution_count": 11,
   "metadata": {},
   "outputs": [
    {
     "name": "stderr",
     "output_type": "stream",
     "text": [
      "C:\\Users\\Pinaki\\AppData\\Local\\Packages\\PythonSoftwareFoundation.Python.3.11_qbz5n2kfra8p0\\LocalCache\\local-packages\\Python311\\site-packages\\sklearn\\svm\\_classes.py:32: FutureWarning: The default value of `dual` will change from `True` to `'auto'` in 1.5. Set the value of `dual` explicitly to suppress the warning.\n",
      "  warnings.warn(\n"
     ]
    },
    {
     "name": "stdout",
     "output_type": "stream",
     "text": [
      "Validation Accuracy (SVM): 0.58\n"
     ]
    }
   ],
   "source": [
    "\n",
    "svm_model = LinearSVC()\n",
    "svm_model.fit(X_train_split, y_train_split)\n",
    "\n",
    "\n",
    "val_predictions_svm = svm_model.predict(X_val_split)\n",
    "\n",
    "\n",
    "accuracy_svm = accuracy_score(y_val_split, val_predictions_svm)\n",
    "print(f\"Validation Accuracy (SVM): {accuracy_svm:.2f}\")\n",
    "\n",
    "\n",
    "test_predictions_svm = svm_model.predict(X_test_tfidf)\n",
    "\n",
    "\n",
    "test_data['predicted_genre_svm'] = test_predictions_svm\n",
    "test_data.to_csv('predicted_genres_svm.csv', index=False)"
   ]
  },
  {
   "cell_type": "code",
   "execution_count": 12,
   "metadata": {},
   "outputs": [
    {
     "name": "stdout",
     "output_type": "stream",
     "text": [
      "Accuracy compared to solution data: 0.18\n"
     ]
    }
   ],
   "source": [
    "\n",
    "solution_data = pd.read_csv(\"Genre Classification Dataset/test_data_solution.txt\", sep=':::', names=[\"ID\", \"TITLE\", \"ACTUAL_GENRE\", \"DESCRIPTION\"], engine='python')\n",
    "\n",
    "\n",
    "merged_data = pd.merge(test_data, solution_data, left_index=True, right_index=True)\n",
    "\n",
    "\n",
    "accuracy_solution = accuracy_score(merged_data['ACTUAL_GENRE'], merged_data['predicted_genre_svm'])\n",
    "print(f\"Accuracy compared to solution data: {accuracy_solution:.2f}\")\n",
    "\n",
    "\n",
    "merged_data.to_csv('merged_data_with_predictions_svm.csv', index=False)\n"
   ]
  }
 ],
 "metadata": {
  "kernelspec": {
   "display_name": "Python 3",
   "language": "python",
   "name": "python3"
  },
  "language_info": {
   "codemirror_mode": {
    "name": "ipython",
    "version": 3
   },
   "file_extension": ".py",
   "mimetype": "text/x-python",
   "name": "python",
   "nbconvert_exporter": "python",
   "pygments_lexer": "ipython3",
   "version": "3.11.6"
  }
 },
 "nbformat": 4,
 "nbformat_minor": 2
}
